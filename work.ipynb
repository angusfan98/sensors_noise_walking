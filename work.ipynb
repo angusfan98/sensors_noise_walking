{
 "cells": [
  {
   "cell_type": "code",
   "execution_count": 1,
   "metadata": {},
   "outputs": [],
   "source": [
    "import pandas as pd\n",
    "import numpy as np\n",
    "import matplotlib.pyplot as plt\n",
    "import seaborn as sns\n",
    "from scipy import stats\n",
    "from scipy import signal\n",
    "from scipy.fft import fft\n",
    "from scipy.integrate import simps\n",
    "import math"
   ]
  },
  {
   "cell_type": "code",
   "execution_count": 2,
   "metadata": {},
   "outputs": [],
   "source": [
    "#data polled at 20hz\n",
    "df = pd.read_csv('walk.txt',sep=';',index_col = 'index')"
   ]
  },
  {
   "cell_type": "code",
   "execution_count": 3,
   "metadata": {},
   "outputs": [],
   "source": [
    "pd.set_option('display.max_rows',0)"
   ]
  },
  {
   "cell_type": "code",
   "execution_count": 4,
   "metadata": {},
   "outputs": [
    {
     "data": {
      "text/html": [
       "<div>\n",
       "<style scoped>\n",
       "    .dataframe tbody tr th:only-of-type {\n",
       "        vertical-align: middle;\n",
       "    }\n",
       "\n",
       "    .dataframe tbody tr th {\n",
       "        vertical-align: top;\n",
       "    }\n",
       "\n",
       "    .dataframe thead th {\n",
       "        text-align: right;\n",
       "    }\n",
       "</style>\n",
       "<table border=\"1\" class=\"dataframe\">\n",
       "  <thead>\n",
       "    <tr style=\"text-align: right;\">\n",
       "      <th></th>\n",
       "      <th>x</th>\n",
       "      <th>y</th>\n",
       "      <th>z</th>\n",
       "    </tr>\n",
       "    <tr>\n",
       "      <th>index</th>\n",
       "      <th></th>\n",
       "      <th></th>\n",
       "      <th></th>\n",
       "    </tr>\n",
       "  </thead>\n",
       "  <tbody>\n",
       "    <tr>\n",
       "      <th>0</th>\n",
       "      <td>-0.149216</td>\n",
       "      <td>0.985901</td>\n",
       "      <td>0.057251</td>\n",
       "    </tr>\n",
       "    <tr>\n",
       "      <th>1</th>\n",
       "      <td>-0.140732</td>\n",
       "      <td>0.990067</td>\n",
       "      <td>0.064270</td>\n",
       "    </tr>\n",
       "    <tr>\n",
       "      <th>2</th>\n",
       "      <td>-0.142715</td>\n",
       "      <td>0.988174</td>\n",
       "      <td>0.068024</td>\n",
       "    </tr>\n",
       "    <tr>\n",
       "      <th>3</th>\n",
       "      <td>-0.139343</td>\n",
       "      <td>0.990250</td>\n",
       "      <td>0.061203</td>\n",
       "    </tr>\n",
       "    <tr>\n",
       "      <th>4</th>\n",
       "      <td>-0.141174</td>\n",
       "      <td>0.989868</td>\n",
       "      <td>0.064529</td>\n",
       "    </tr>\n",
       "    <tr>\n",
       "      <th>5</th>\n",
       "      <td>-0.141037</td>\n",
       "      <td>0.988922</td>\n",
       "      <td>0.064804</td>\n",
       "    </tr>\n",
       "    <tr>\n",
       "      <th>6</th>\n",
       "      <td>-0.135483</td>\n",
       "      <td>0.989090</td>\n",
       "      <td>0.061264</td>\n",
       "    </tr>\n",
       "    <tr>\n",
       "      <th>7</th>\n",
       "      <td>-0.139191</td>\n",
       "      <td>0.987167</td>\n",
       "      <td>0.066025</td>\n",
       "    </tr>\n",
       "    <tr>\n",
       "      <th>8</th>\n",
       "      <td>-0.140488</td>\n",
       "      <td>0.988098</td>\n",
       "      <td>0.063950</td>\n",
       "    </tr>\n",
       "    <tr>\n",
       "      <th>...</th>\n",
       "      <td>...</td>\n",
       "      <td>...</td>\n",
       "      <td>...</td>\n",
       "    </tr>\n",
       "    <tr>\n",
       "      <th>2157</th>\n",
       "      <td>-0.047379</td>\n",
       "      <td>0.999268</td>\n",
       "      <td>0.090561</td>\n",
       "    </tr>\n",
       "    <tr>\n",
       "      <th>2158</th>\n",
       "      <td>-0.040573</td>\n",
       "      <td>1.004196</td>\n",
       "      <td>0.084152</td>\n",
       "    </tr>\n",
       "    <tr>\n",
       "      <th>2159</th>\n",
       "      <td>-0.059433</td>\n",
       "      <td>0.990295</td>\n",
       "      <td>0.078903</td>\n",
       "    </tr>\n",
       "    <tr>\n",
       "      <th>2160</th>\n",
       "      <td>-0.055817</td>\n",
       "      <td>0.996399</td>\n",
       "      <td>0.077209</td>\n",
       "    </tr>\n",
       "    <tr>\n",
       "      <th>2161</th>\n",
       "      <td>-0.060928</td>\n",
       "      <td>1.000824</td>\n",
       "      <td>0.084946</td>\n",
       "    </tr>\n",
       "    <tr>\n",
       "      <th>2162</th>\n",
       "      <td>-0.049881</td>\n",
       "      <td>0.996231</td>\n",
       "      <td>0.079269</td>\n",
       "    </tr>\n",
       "    <tr>\n",
       "      <th>2163</th>\n",
       "      <td>-0.063629</td>\n",
       "      <td>1.000580</td>\n",
       "      <td>0.078140</td>\n",
       "    </tr>\n",
       "    <tr>\n",
       "      <th>2164</th>\n",
       "      <td>-0.083069</td>\n",
       "      <td>0.993820</td>\n",
       "      <td>0.079437</td>\n",
       "    </tr>\n",
       "    <tr>\n",
       "      <th>2165</th>\n",
       "      <td>-0.060974</td>\n",
       "      <td>0.995316</td>\n",
       "      <td>0.075653</td>\n",
       "    </tr>\n",
       "  </tbody>\n",
       "</table>\n",
       "<p>2166 rows × 3 columns</p>\n",
       "</div>"
      ],
      "text/plain": [
       "              x         y         z\n",
       "index                              \n",
       "0     -0.149216  0.985901  0.057251\n",
       "1     -0.140732  0.990067  0.064270\n",
       "2     -0.142715  0.988174  0.068024\n",
       "3     -0.139343  0.990250  0.061203\n",
       "4     -0.141174  0.989868  0.064529\n",
       "5     -0.141037  0.988922  0.064804\n",
       "6     -0.135483  0.989090  0.061264\n",
       "7     -0.139191  0.987167  0.066025\n",
       "8     -0.140488  0.988098  0.063950\n",
       "...         ...       ...       ...\n",
       "2157  -0.047379  0.999268  0.090561\n",
       "2158  -0.040573  1.004196  0.084152\n",
       "2159  -0.059433  0.990295  0.078903\n",
       "2160  -0.055817  0.996399  0.077209\n",
       "2161  -0.060928  1.000824  0.084946\n",
       "2162  -0.049881  0.996231  0.079269\n",
       "2163  -0.063629  1.000580  0.078140\n",
       "2164  -0.083069  0.993820  0.079437\n",
       "2165  -0.060974  0.995316  0.075653\n",
       "\n",
       "[2166 rows x 3 columns]"
      ]
     },
     "execution_count": 4,
     "metadata": {},
     "output_type": "execute_result"
    }
   ],
   "source": [
    "#24 was me standing still\n",
    "#2152\n",
    "df\n",
    "#need to multiply by 9.81 to turns Gs into m/s^2"
   ]
  },
  {
   "cell_type": "code",
   "execution_count": 5,
   "metadata": {},
   "outputs": [
    {
     "data": {
      "text/html": [
       "<div>\n",
       "<style scoped>\n",
       "    .dataframe tbody tr th:only-of-type {\n",
       "        vertical-align: middle;\n",
       "    }\n",
       "\n",
       "    .dataframe tbody tr th {\n",
       "        vertical-align: top;\n",
       "    }\n",
       "\n",
       "    .dataframe thead th {\n",
       "        text-align: right;\n",
       "    }\n",
       "</style>\n",
       "<table border=\"1\" class=\"dataframe\">\n",
       "  <thead>\n",
       "    <tr style=\"text-align: right;\">\n",
       "      <th></th>\n",
       "      <th>x</th>\n",
       "      <th>y</th>\n",
       "      <th>z</th>\n",
       "    </tr>\n",
       "    <tr>\n",
       "      <th>index</th>\n",
       "      <th></th>\n",
       "      <th></th>\n",
       "      <th></th>\n",
       "    </tr>\n",
       "  </thead>\n",
       "  <tbody>\n",
       "    <tr>\n",
       "      <th>25</th>\n",
       "      <td>-0.136948</td>\n",
       "      <td>0.990005</td>\n",
       "      <td>0.074142</td>\n",
       "    </tr>\n",
       "    <tr>\n",
       "      <th>26</th>\n",
       "      <td>-0.137024</td>\n",
       "      <td>0.997421</td>\n",
       "      <td>0.084290</td>\n",
       "    </tr>\n",
       "    <tr>\n",
       "      <th>27</th>\n",
       "      <td>-0.131638</td>\n",
       "      <td>0.994247</td>\n",
       "      <td>0.088394</td>\n",
       "    </tr>\n",
       "    <tr>\n",
       "      <th>28</th>\n",
       "      <td>-0.112320</td>\n",
       "      <td>1.005676</td>\n",
       "      <td>0.092255</td>\n",
       "    </tr>\n",
       "    <tr>\n",
       "      <th>29</th>\n",
       "      <td>-0.118713</td>\n",
       "      <td>0.995026</td>\n",
       "      <td>0.077759</td>\n",
       "    </tr>\n",
       "    <tr>\n",
       "      <th>30</th>\n",
       "      <td>-0.116592</td>\n",
       "      <td>0.992279</td>\n",
       "      <td>0.086182</td>\n",
       "    </tr>\n",
       "    <tr>\n",
       "      <th>31</th>\n",
       "      <td>-0.110428</td>\n",
       "      <td>0.990646</td>\n",
       "      <td>0.091171</td>\n",
       "    </tr>\n",
       "    <tr>\n",
       "      <th>32</th>\n",
       "      <td>-0.111542</td>\n",
       "      <td>0.983047</td>\n",
       "      <td>0.088593</td>\n",
       "    </tr>\n",
       "    <tr>\n",
       "      <th>33</th>\n",
       "      <td>-0.118881</td>\n",
       "      <td>0.988068</td>\n",
       "      <td>0.088440</td>\n",
       "    </tr>\n",
       "    <tr>\n",
       "      <th>...</th>\n",
       "      <td>...</td>\n",
       "      <td>...</td>\n",
       "      <td>...</td>\n",
       "    </tr>\n",
       "    <tr>\n",
       "      <th>2143</th>\n",
       "      <td>-0.031693</td>\n",
       "      <td>1.003799</td>\n",
       "      <td>0.088989</td>\n",
       "    </tr>\n",
       "    <tr>\n",
       "      <th>2144</th>\n",
       "      <td>-0.021057</td>\n",
       "      <td>1.005875</td>\n",
       "      <td>0.079498</td>\n",
       "    </tr>\n",
       "    <tr>\n",
       "      <th>2145</th>\n",
       "      <td>-0.051117</td>\n",
       "      <td>0.992508</td>\n",
       "      <td>0.070801</td>\n",
       "    </tr>\n",
       "    <tr>\n",
       "      <th>2146</th>\n",
       "      <td>-0.019730</td>\n",
       "      <td>1.000824</td>\n",
       "      <td>0.093903</td>\n",
       "    </tr>\n",
       "    <tr>\n",
       "      <th>2147</th>\n",
       "      <td>-0.007156</td>\n",
       "      <td>1.007309</td>\n",
       "      <td>0.100937</td>\n",
       "    </tr>\n",
       "    <tr>\n",
       "      <th>2148</th>\n",
       "      <td>0.015594</td>\n",
       "      <td>1.008728</td>\n",
       "      <td>0.087372</td>\n",
       "    </tr>\n",
       "    <tr>\n",
       "      <th>2149</th>\n",
       "      <td>-0.026550</td>\n",
       "      <td>0.996078</td>\n",
       "      <td>0.081146</td>\n",
       "    </tr>\n",
       "    <tr>\n",
       "      <th>2150</th>\n",
       "      <td>-0.021088</td>\n",
       "      <td>0.995895</td>\n",
       "      <td>0.064941</td>\n",
       "    </tr>\n",
       "    <tr>\n",
       "      <th>2151</th>\n",
       "      <td>-0.037277</td>\n",
       "      <td>1.002975</td>\n",
       "      <td>0.083160</td>\n",
       "    </tr>\n",
       "  </tbody>\n",
       "</table>\n",
       "<p>2127 rows × 3 columns</p>\n",
       "</div>"
      ],
      "text/plain": [
       "              x         y         z\n",
       "index                              \n",
       "25    -0.136948  0.990005  0.074142\n",
       "26    -0.137024  0.997421  0.084290\n",
       "27    -0.131638  0.994247  0.088394\n",
       "28    -0.112320  1.005676  0.092255\n",
       "29    -0.118713  0.995026  0.077759\n",
       "30    -0.116592  0.992279  0.086182\n",
       "31    -0.110428  0.990646  0.091171\n",
       "32    -0.111542  0.983047  0.088593\n",
       "33    -0.118881  0.988068  0.088440\n",
       "...         ...       ...       ...\n",
       "2143  -0.031693  1.003799  0.088989\n",
       "2144  -0.021057  1.005875  0.079498\n",
       "2145  -0.051117  0.992508  0.070801\n",
       "2146  -0.019730  1.000824  0.093903\n",
       "2147  -0.007156  1.007309  0.100937\n",
       "2148   0.015594  1.008728  0.087372\n",
       "2149  -0.026550  0.996078  0.081146\n",
       "2150  -0.021088  0.995895  0.064941\n",
       "2151  -0.037277  1.002975  0.083160\n",
       "\n",
       "[2127 rows x 3 columns]"
      ]
     },
     "execution_count": 5,
     "metadata": {},
     "output_type": "execute_result"
    }
   ],
   "source": [
    "#for the regular walk\n",
    "df = df[(df.index >24) & (df.index <2152)]\n",
    "#for fast walk\n",
    "#df = df[(df.index >24) & (df.index <650)]\n",
    "df"
   ]
  },
  {
   "cell_type": "code",
   "execution_count": 6,
   "metadata": {},
   "outputs": [],
   "source": [
    "N= df['x'].size\n",
    "#x = np.linspace(0.0,N*T,N)\n",
    "y = df['x'] * 9.81\n",
    "f = 20 #Frequency in cycles per second or Hertz, oscilliations per second\n",
    "f_s = 20 #number of measurements per second\n",
    "x = np.linspace(0,N/f_s,N)"
   ]
  },
  {
   "cell_type": "code",
   "execution_count": 7,
   "metadata": {},
   "outputs": [
    {
     "data": {
      "text/plain": [
       "2127"
      ]
     },
     "execution_count": 7,
     "metadata": {},
     "output_type": "execute_result"
    }
   ],
   "source": [
    "N"
   ]
  },
  {
   "cell_type": "code",
   "execution_count": 8,
   "metadata": {},
   "outputs": [
    {
     "data": {
      "text/plain": [
       "[<matplotlib.lines.Line2D at 0x7fec74b52c90>]"
      ]
     },
     "execution_count": 8,
     "metadata": {},
     "output_type": "execute_result"
    },
    {
     "data": {
      "image/png": "[encoded data removed]",
      "text/plain": [
       "<Figure size 432x288 with 1 Axes>"
      ]
     },
     "metadata": {
      "needs_background": "light"
     },
     "output_type": "display_data"
    }
   ],
   "source": [
    "noisyX = plt.plot(x,y)\n",
    "noisyX"
   ]
  },
  {
   "cell_type": "code",
   "execution_count": 29,
   "metadata": {},
   "outputs": [],
   "source": [
    "#b,a = signal.butter(3,0.1,btype='lowpass',analog=False)\n",
    "b,a = signal.butter(3,0.2,btype='lowpass',analog=False)"
   ]
  },
  {
   "cell_type": "code",
   "execution_count": 30,
   "metadata": {},
   "outputs": [
    {
     "data": {
      "text/plain": [
       "array([-1.34429252, -1.29072226, -1.23940404, ..., -0.17712716,\n",
       "       -0.2589124 , -0.36366225])"
      ]
     },
     "execution_count": 30,
     "metadata": {},
     "output_type": "execute_result"
    }
   ],
   "source": [
    "filt = signal.filtfilt(b,a,y)\n",
    "filt"
   ]
  },
  {
   "cell_type": "code",
   "execution_count": 31,
   "metadata": {},
   "outputs": [
    {
     "data": {
      "text/plain": [
       "[<matplotlib.lines.Line2D at 0x7fec752e6dd0>]"
      ]
     },
     "execution_count": 31,
     "metadata": {},
     "output_type": "execute_result"
    },
    {
     "data": {
      "image/png": "[encoded data removed]",
      "text/plain": [
       "<Figure size 432x288 with 1 Axes>"
      ]
     },
     "metadata": {
      "needs_background": "light"
     },
     "output_type": "display_data"
    }
   ],
   "source": [
    "cleanX = plt.plot(x,filt)\n",
    "cleanX"
   ]
  },
  {
   "cell_type": "code",
   "execution_count": 12,
   "metadata": {},
   "outputs": [
    {
     "data": {
      "text/plain": [
       "array([-3276.60523881  -0.j        ,   219.73406507 -44.44543699j,\n",
       "         210.63868375 -70.43658823j, ...,   214.80770521+164.71144852j,\n",
       "         210.63868375 +70.43658823j,   219.73406507 +44.44543699j])"
      ]
     },
     "execution_count": 12,
     "metadata": {},
     "output_type": "execute_result"
    }
   ],
   "source": [
    "#Fast Fourier Transform the data\n",
    "yf = fft(filt)\n",
    "yf"
   ]
  },
  {
   "cell_type": "code",
   "execution_count": 13,
   "metadata": {},
   "outputs": [],
   "source": [
    "#xf = np.linspace(0.0,1.0/(2.0*(T)),N//2)\n",
    "#xf = np.linspace(0,1/(20*f_s),N//2)\n",
    "#xf = np.linspace(0,f_s,N//2)\n",
    "xf = np.linspace(0,N*f_s,N)"
   ]
  },
  {
   "cell_type": "code",
   "execution_count": 14,
   "metadata": {},
   "outputs": [
    {
     "data": {
      "image/png": "[encoded data removed]",
      "text/plain": [
       "<Figure size 432x288 with 1 Axes>"
      ]
     },
     "metadata": {
      "needs_background": "light"
     },
     "output_type": "display_data"
    }
   ],
   "source": [
    "#plt.plot(xf,2.0/N * np.abs(yf[0:N//2]))\n",
    "#plt.semilogy(xf,2.0/N * np.abs(yf[0:N//2]))\n",
    "plt.semilogy(xf,2.0/N * np.abs(yf))\n",
    "plt.show()"
   ]
  },
  {
   "cell_type": "code",
   "execution_count": 15,
   "metadata": {},
   "outputs": [],
   "source": [
    "from scipy.fft import fftfreq"
   ]
  },
  {
   "cell_type": "code",
   "execution_count": 16,
   "metadata": {},
   "outputs": [],
   "source": [
    "n = yf.size"
   ]
  },
  {
   "cell_type": "code",
   "execution_count": 17,
   "metadata": {},
   "outputs": [
    {
     "data": {
      "text/plain": [
       "array([ 0.        ,  0.00047015,  0.00094029, ..., -0.00141044,\n",
       "       -0.00094029, -0.00047015])"
      ]
     },
     "execution_count": 17,
     "metadata": {},
     "output_type": "execute_result"
    }
   ],
   "source": [
    "#default 1 second\n",
    "freqs = fftfreq(n)\n",
    "freqs"
   ]
  },
  {
   "cell_type": "code",
   "execution_count": 18,
   "metadata": {},
   "outputs": [
    {
     "data": {
      "text/plain": [
       "60"
      ]
     },
     "execution_count": 18,
     "metadata": {},
     "output_type": "execute_result"
    }
   ],
   "source": [
    "idx = np.argmax(np.abs(yf))\n",
    "idx"
   ]
  },
  {
   "cell_type": "code",
   "execution_count": 19,
   "metadata": {},
   "outputs": [
    {
     "data": {
      "text/plain": [
       "0.028208744710860365"
      ]
     },
     "execution_count": 19,
     "metadata": {},
     "output_type": "execute_result"
    }
   ],
   "source": [
    "freq = freqs[idx]\n",
    "freq"
   ]
  },
  {
   "cell_type": "code",
   "execution_count": 20,
   "metadata": {},
   "outputs": [
    {
     "data": {
      "text/plain": [
       "0.5641748942172073"
      ]
     },
     "execution_count": 20,
     "metadata": {},
     "output_type": "execute_result"
    }
   ],
   "source": [
    "stepFreq = abs(freq * f_s)\n",
    "stepFreq\n",
    "#half a step per second"
   ]
  },
  {
   "cell_type": "code",
   "execution_count": 21,
   "metadata": {},
   "outputs": [
    {
     "data": {
      "text/plain": [
       "33.850493653032444"
      ]
     },
     "execution_count": 21,
     "metadata": {},
     "output_type": "execute_result"
    }
   ],
   "source": [
    "#steps/minute\n",
    "stepFreq * 60"
   ]
  },
  {
   "cell_type": "code",
   "execution_count": 22,
   "metadata": {},
   "outputs": [
    {
     "data": {
      "text/plain": [
       "106.35"
      ]
     },
     "execution_count": 22,
     "metadata": {},
     "output_type": "execute_result"
    }
   ],
   "source": [
    "timeElapsed = N / f_s\n",
    "timeElapsed"
   ]
  },
  {
   "cell_type": "code",
   "execution_count": 23,
   "metadata": {},
   "outputs": [
    {
     "data": {
      "text/plain": [
       "60.0"
      ]
     },
     "execution_count": 23,
     "metadata": {},
     "output_type": "execute_result"
    }
   ],
   "source": [
    "numSteps = stepFreq * timeElapsed\n",
    "numSteps"
   ]
  },
  {
   "cell_type": "code",
   "execution_count": 24,
   "metadata": {},
   "outputs": [
    {
     "data": {
      "text/plain": [
       "-16.69994615"
      ]
     },
     "execution_count": 24,
     "metadata": {},
     "output_type": "execute_result"
    }
   ],
   "source": [
    "df['x'].loc[25:2151].sum() / f_s\n",
    "#-16 means 16m/s in the negative direction of the accelerometer?"
   ]
  },
  {
   "cell_type": "code",
   "execution_count": 25,
   "metadata": {},
   "outputs": [
    {
     "data": {
      "text/plain": [
       "126.88338445"
      ]
     },
     "execution_count": 25,
     "metadata": {},
     "output_type": "execute_result"
    }
   ],
   "source": [
    "df['y'].loc[25:2151].sum() / f_s"
   ]
  },
  {
   "cell_type": "code",
   "execution_count": 26,
   "metadata": {},
   "outputs": [
    {
     "data": {
      "text/plain": [
       "6.981683049999999"
      ]
     },
     "execution_count": 26,
     "metadata": {},
     "output_type": "execute_result"
    }
   ],
   "source": [
    "df['z'].loc[25:2151].sum() / f_s"
   ]
  },
  {
   "cell_type": "code",
   "execution_count": null,
   "metadata": {},
   "outputs": [],
   "source": []
  }
 ],
 "metadata": {
  "kernelspec": {
   "display_name": "Python 3",
   "language": "python",
   "name": "python3"
  },
  "language_info": {
   "codemirror_mode": {
    "name": "ipython",
    "version": 3
   },
   "file_extension": ".py",
   "mimetype": "text/x-python",
   "name": "python",
   "nbconvert_exporter": "python",
   "pygments_lexer": "ipython3",
   "version": "3.7.5"
  }
 },
 "nbformat": 4,
 "nbformat_minor": 4
}
